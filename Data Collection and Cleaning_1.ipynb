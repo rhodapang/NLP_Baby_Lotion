{
 "cells": [
  {
   "cell_type": "code",
   "execution_count": 2,
   "metadata": {},
   "outputs": [
    {
     "name": "stderr",
     "output_type": "stream",
     "text": [
      "C:\\Users\\rhoda\\Anaconda3\\lib\\importlib\\_bootstrap.py:219: RuntimeWarning: numpy.ufunc size changed, may indicate binary incompatibility. Expected 192 from C header, got 216 from PyObject\n",
      "  return f(*args, **kwds)\n",
      "C:\\Users\\rhoda\\Anaconda3\\lib\\importlib\\_bootstrap.py:219: RuntimeWarning: numpy.ufunc size changed, may indicate binary incompatibility. Expected 192 from C header, got 216 from PyObject\n",
      "  return f(*args, **kwds)\n",
      "C:\\Users\\rhoda\\Anaconda3\\lib\\importlib\\_bootstrap.py:219: RuntimeWarning: numpy.ufunc size changed, may indicate binary incompatibility. Expected 192 from C header, got 216 from PyObject\n",
      "  return f(*args, **kwds)\n",
      "C:\\Users\\rhoda\\Anaconda3\\lib\\importlib\\_bootstrap.py:219: RuntimeWarning: numpy.ufunc size changed, may indicate binary incompatibility. Expected 192 from C header, got 216 from PyObject\n",
      "  return f(*args, **kwds)\n"
     ]
    }
   ],
   "source": [
    "import pandas as pd \n",
    "import numpy as np \n",
    "import matplotlib.pyplot as plt\n",
    "import seaborn as sns "
   ]
  },
  {
   "cell_type": "code",
   "execution_count": 3,
   "metadata": {},
   "outputs": [
    {
     "data": {
      "text/html": [
       "<div>\n",
       "<style scoped>\n",
       "    .dataframe tbody tr th:only-of-type {\n",
       "        vertical-align: middle;\n",
       "    }\n",
       "\n",
       "    .dataframe tbody tr th {\n",
       "        vertical-align: top;\n",
       "    }\n",
       "\n",
       "    .dataframe thead th {\n",
       "        text-align: right;\n",
       "    }\n",
       "</style>\n",
       "<table border=\"1\" class=\"dataframe\">\n",
       "  <thead>\n",
       "    <tr style=\"text-align: right;\">\n",
       "      <th></th>\n",
       "      <th>id</th>\n",
       "      <th>profileName</th>\n",
       "      <th>text</th>\n",
       "      <th>date</th>\n",
       "      <th>title</th>\n",
       "      <th>rating</th>\n",
       "      <th>images</th>\n",
       "      <th>Style</th>\n",
       "    </tr>\n",
       "  </thead>\n",
       "  <tbody>\n",
       "    <tr>\n",
       "      <th>0</th>\n",
       "      <td>R130ZD3XOR1F7T</td>\n",
       "      <td>Kelsey Coultrip</td>\n",
       "      <td>\\n  Absolutely amazed at this stuff. I had a t...</td>\n",
       "      <td>Reviewed in the United States on April 4, 2017</td>\n",
       "      <td>Best decision EVER</td>\n",
       "      <td>5</td>\n",
       "      <td>NaN</td>\n",
       "      <td>Daily Moisturizing Cream</td>\n",
       "    </tr>\n",
       "    <tr>\n",
       "      <th>1</th>\n",
       "      <td>R3GSQNIANFBS6K</td>\n",
       "      <td>D. Christian</td>\n",
       "      <td>\\n  LOVE, LOVE, LOVE, this stuff! My husband h...</td>\n",
       "      <td>Reviewed in the United States on May 30, 2019</td>\n",
       "      <td>LOVE, LOVE, LOVE this stuff! ❤️😍❤️</td>\n",
       "      <td>5</td>\n",
       "      <td>NaN</td>\n",
       "      <td>Itch Relief Balm</td>\n",
       "    </tr>\n",
       "    <tr>\n",
       "      <th>2</th>\n",
       "      <td>R3RE9XV7FSE7DL</td>\n",
       "      <td>Steph K.</td>\n",
       "      <td>\\n  I can NOT recommend this enough. I have te...</td>\n",
       "      <td>Reviewed in the United States on May 16, 2018</td>\n",
       "      <td>Best non-steroid brand for dyshidrotic eczema ...</td>\n",
       "      <td>5</td>\n",
       "      <td>NaN</td>\n",
       "      <td>Itch Relief Balm</td>\n",
       "    </tr>\n",
       "    <tr>\n",
       "      <th>3</th>\n",
       "      <td>RA6032FMBNTEE</td>\n",
       "      <td>Marilee</td>\n",
       "      <td>\\n  HORRIBLE product! If I could give it zero ...</td>\n",
       "      <td>Reviewed in the United States on February 25, ...</td>\n",
       "      <td>Made my sons eczema WORSE! Protect yourself, D...</td>\n",
       "      <td>1</td>\n",
       "      <td>NaN</td>\n",
       "      <td>Daily Moisturizing Cream</td>\n",
       "    </tr>\n",
       "    <tr>\n",
       "      <th>4</th>\n",
       "      <td>R1NXCV72JELX7O</td>\n",
       "      <td>Andrea</td>\n",
       "      <td>\\n  Ok honestly, this stuff is as great as the...</td>\n",
       "      <td>Reviewed in the United States on January 16, 2020</td>\n",
       "      <td>best thing ever for eczema</td>\n",
       "      <td>5</td>\n",
       "      <td>NaN</td>\n",
       "      <td>Daily Moisturizing Cream</td>\n",
       "    </tr>\n",
       "  </tbody>\n",
       "</table>\n",
       "</div>"
      ],
      "text/plain": [
       "               id      profileName  \\\n",
       "0  R130ZD3XOR1F7T  Kelsey Coultrip   \n",
       "1  R3GSQNIANFBS6K     D. Christian   \n",
       "2  R3RE9XV7FSE7DL         Steph K.   \n",
       "3   RA6032FMBNTEE          Marilee   \n",
       "4  R1NXCV72JELX7O           Andrea   \n",
       "\n",
       "                                                text  \\\n",
       "0  \\n  Absolutely amazed at this stuff. I had a t...   \n",
       "1  \\n  LOVE, LOVE, LOVE, this stuff! My husband h...   \n",
       "2  \\n  I can NOT recommend this enough. I have te...   \n",
       "3  \\n  HORRIBLE product! If I could give it zero ...   \n",
       "4  \\n  Ok honestly, this stuff is as great as the...   \n",
       "\n",
       "                                                date  \\\n",
       "0     Reviewed in the United States on April 4, 2017   \n",
       "1      Reviewed in the United States on May 30, 2019   \n",
       "2      Reviewed in the United States on May 16, 2018   \n",
       "3  Reviewed in the United States on February 25, ...   \n",
       "4  Reviewed in the United States on January 16, 2020   \n",
       "\n",
       "                                               title  rating  images  \\\n",
       "0                                 Best decision EVER       5     NaN   \n",
       "1                 LOVE, LOVE, LOVE this stuff! ❤️😍❤️       5     NaN   \n",
       "2  Best non-steroid brand for dyshidrotic eczema ...       5     NaN   \n",
       "3  Made my sons eczema WORSE! Protect yourself, D...       1     NaN   \n",
       "4                         best thing ever for eczema       5     NaN   \n",
       "\n",
       "                      Style  \n",
       "0  Daily Moisturizing Cream  \n",
       "1          Itch Relief Balm  \n",
       "2          Itch Relief Balm  \n",
       "3  Daily Moisturizing Cream  \n",
       "4  Daily Moisturizing Cream  "
      ]
     },
     "execution_count": 3,
     "metadata": {},
     "output_type": "execute_result"
    }
   ],
   "source": [
    "Aveeno = pd.read_csv('Aveeno Eczema Therapy.csv')\n",
    "Aveeno.head()"
   ]
  },
  {
   "cell_type": "code",
   "execution_count": 4,
   "metadata": {},
   "outputs": [
    {
     "data": {
      "text/plain": [
       "\"\\n  Absolutely amazed at this stuff. I had a terrible allergic reaction and broke out with eczema all over my face (have suffered with it for years, just never on my face). My eyes were completely swollen shut and red, my face was peeling, in pain, inflamed and DRY DRY DRY. I tried everything and I mean everything.  I ordered this and nearly instantly felt and saw results. These two pictures are LESS THAN 24 HOURS APART. I've been using it now for 3 days and my face is 100% back to normal. I really like that this product is a cream versus a lotion, I feel it helps soak in better and KEEPS the skin hydrated. 100% recommend.\\n\""
      ]
     },
     "execution_count": 4,
     "metadata": {},
     "output_type": "execute_result"
    }
   ],
   "source": [
    "Aveeno['text'][0]"
   ]
  },
  {
   "cell_type": "code",
   "execution_count": null,
   "metadata": {},
   "outputs": [],
   "source": []
  },
  {
   "cell_type": "code",
   "execution_count": null,
   "metadata": {},
   "outputs": [],
   "source": []
  },
  {
   "cell_type": "code",
   "execution_count": null,
   "metadata": {},
   "outputs": [],
   "source": []
  },
  {
   "cell_type": "code",
   "execution_count": null,
   "metadata": {},
   "outputs": [],
   "source": []
  },
  {
   "cell_type": "code",
   "execution_count": null,
   "metadata": {},
   "outputs": [],
   "source": []
  },
  {
   "cell_type": "code",
   "execution_count": null,
   "metadata": {},
   "outputs": [],
   "source": []
  }
 ],
 "metadata": {
  "kernelspec": {
   "display_name": "Python 3",
   "language": "python",
   "name": "python3"
  },
  "language_info": {
   "codemirror_mode": {
    "name": "ipython",
    "version": 3
   },
   "file_extension": ".py",
   "mimetype": "text/x-python",
   "name": "python",
   "nbconvert_exporter": "python",
   "pygments_lexer": "ipython3",
   "version": "3.7.3"
  },
  "toc": {
   "base_numbering": 1,
   "nav_menu": {},
   "number_sections": true,
   "sideBar": true,
   "skip_h1_title": false,
   "title_cell": "Table of Contents",
   "title_sidebar": "Contents",
   "toc_cell": false,
   "toc_position": {},
   "toc_section_display": true,
   "toc_window_display": false
  }
 },
 "nbformat": 4,
 "nbformat_minor": 4
}
