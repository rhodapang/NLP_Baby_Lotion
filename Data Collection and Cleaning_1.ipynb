{
 "cells": [
  {
   "cell_type": "markdown",
   "metadata": {},
   "source": [
    "# Import Packages"
   ]
  },
  {
   "cell_type": "code",
   "execution_count": 166,
   "metadata": {},
   "outputs": [],
   "source": [
    "warnings.filterwarnings(\"ignore\")\n",
    "\n",
    "import numpy as np\n",
    "import pandas as pd\n",
    "import scipy\n",
    "import matplotlib.pyplot as plt\n",
    "import seaborn as sns\n",
    "import re\n",
    "import nltk\n",
    "from nltk.corpus import stopwords\n",
    "from nltk.stem import SnowballStemmer, PorterStemmer\n",
    "import math\n",
    "from collections import Counter\n",
    "from sklearn.feature_extraction.text import TfidfVectorizer, CountVectorizer\n",
    "from sklearn.model_selection import train_test_split\n",
    "from sklearn.metrics import roc_auc_score, roc_curve, auc, mean_squared_error\n",
    "from sklearn.decomposition import TruncatedSVD, PCA\n",
    "from sklearn.linear_model import LinearRegression, SGDRegressor\n",
    "from sklearn.svm import SVR\n",
    "from sklearn.tree import DecisionTreeRegressor\n",
    "from sklearn.ensemble import RandomForestRegressor, AdaBoostRegressor\n",
    "from xgboost import XGBRegressor\n",
    "import gensim\n",
    "import string\n",
    "import tensorflow as tf\n",
    "import keras\n",
    "from keras.callbacks import ModelCheckpoint\n",
    "from keras.models import Sequential\n",
    "from keras.layers import Dense\n",
    "from keras.layers import LSTM\n",
    "from keras.layers import CuDNNLSTM\n",
    "from keras.layers import Dropout\n",
    "from keras.layers.embeddings import Embedding\n",
    "import warnings\n",
    "from keras import backend as K\n",
    "\n",
    "#K.tensorflow_backend._get_available_gpus()"
   ]
  },
  {
   "cell_type": "markdown",
   "metadata": {},
   "source": [
    "# Import all brands' lotion review datasets"
   ]
  },
  {
   "cell_type": "markdown",
   "metadata": {},
   "source": [
    "For our analysis purpose, only 'review rating','review text' should be kept. The usage of 'review rating' is to help classifying the same rating between different brands.  "
   ]
  },
  {
   "cell_type": "code",
   "execution_count": 167,
   "metadata": {},
   "outputs": [],
   "source": [
    "df_Aquaphor = pd.read_csv(r'D:\\Springboard\\Github\\Data_NLP_Baby_Lotion\\Aquaphor Baby Healing Ointment Reviews.csv', skipinitialspace=True, usecols=['review text','review rating'])\n",
    "df_Aveeno = pd.read_csv(r'D:\\Springboard\\Github\\Data_NLP_Baby_Lotion\\Aveeno Eczema Therapy Reviews.csv', skipinitialspace=True, usecols=['review text','review rating'])\n",
    "df_CeraVe = pd.read_csv(r'D:\\Springboard\\Github\\Data_NLP_Baby_Lotion\\CeraVe Baby Moisturizing Cream reviews.csv', skipinitialspace=True, usecols=['review text','review rating'])\n",
    "df_Cetaphil = pd.read_csv(r'D:\\Springboard\\Github\\Data_NLP_Baby_Lotion\\Cetaphil Baby Eczema Soothing Lotion Reviews.csv', skipinitialspace=True, usecols=['review text','review rating'])\n",
    "df_Era = pd.read_csv(r'D:\\Springboard\\Github\\Data_NLP_Baby_Lotion\\Era Organics Healing Ointment Reviews.csv', skipinitialspace=True, usecols=['review text','review rating'])\n",
    "df_Eucerin = pd.read_csv(r'D:\\Springboard\\Github\\Data_NLP_Baby_Lotion\\Eucerin Eczema Relief Creme Review.csv', skipinitialspace=True, usecols=['review text','review rating'])\n",
    "df_Mustela = pd.read_csv(r'D:\\Springboard\\Github\\Data_NLP_Baby_Lotion\\Mustela Stelatopia Reviews.csv', skipinitialspace=True, usecols=['review text','review rating'])\n",
    "df_Vanicream = pd.read_csv(r'D:\\Springboard\\Github\\Data_NLP_Baby_Lotion\\Vanicream Reviews.csv', skipinitialspace=True, usecols=['review text','review rating'])"
   ]
  },
  {
   "cell_type": "code",
   "execution_count": 168,
   "metadata": {},
   "outputs": [
    {
     "data": {
      "text/html": [
       "<div>\n",
       "<style scoped>\n",
       "    .dataframe tbody tr th:only-of-type {\n",
       "        vertical-align: middle;\n",
       "    }\n",
       "\n",
       "    .dataframe tbody tr th {\n",
       "        vertical-align: top;\n",
       "    }\n",
       "\n",
       "    .dataframe thead th {\n",
       "        text-align: right;\n",
       "    }\n",
       "</style>\n",
       "<table border=\"1\" class=\"dataframe\">\n",
       "  <thead>\n",
       "    <tr style=\"text-align: right;\">\n",
       "      <th></th>\n",
       "      <th>review rating</th>\n",
       "      <th>review text</th>\n",
       "    </tr>\n",
       "  </thead>\n",
       "  <tbody>\n",
       "    <tr>\n",
       "      <th>0</th>\n",
       "      <td>2</td>\n",
       "      <td>Originally our pediatrician recommended this l...</td>\n",
       "    </tr>\n",
       "    <tr>\n",
       "      <th>1</th>\n",
       "      <td>5</td>\n",
       "      <td>This wash is basically the same as the Vanicre...</td>\n",
       "    </tr>\n",
       "    <tr>\n",
       "      <th>2</th>\n",
       "      <td>1</td>\n",
       "      <td>I asked on the Vanicream Facebook site what is...</td>\n",
       "    </tr>\n",
       "    <tr>\n",
       "      <th>3</th>\n",
       "      <td>1</td>\n",
       "      <td>When Aveeno and then Alaffia changed their bod...</td>\n",
       "    </tr>\n",
       "    <tr>\n",
       "      <th>4</th>\n",
       "      <td>5</td>\n",
       "      <td>I’m a big believer in the Vanicream brand for ...</td>\n",
       "    </tr>\n",
       "    <tr>\n",
       "      <th>...</th>\n",
       "      <td>...</td>\n",
       "      <td>...</td>\n",
       "    </tr>\n",
       "    <tr>\n",
       "      <th>97</th>\n",
       "      <td>5</td>\n",
       "      <td>Worked great for my one year old with excema. ...</td>\n",
       "    </tr>\n",
       "    <tr>\n",
       "      <th>98</th>\n",
       "      <td>5</td>\n",
       "      <td>Thank you for such awesome product!</td>\n",
       "    </tr>\n",
       "    <tr>\n",
       "      <th>99</th>\n",
       "      <td>5</td>\n",
       "      <td>The baby formula must be an Amazon marketing s...</td>\n",
       "    </tr>\n",
       "    <tr>\n",
       "      <th>100</th>\n",
       "      <td>5</td>\n",
       "      <td>I trust Vanicream with my own sensitive skin, ...</td>\n",
       "    </tr>\n",
       "    <tr>\n",
       "      <th>101</th>\n",
       "      <td>5</td>\n",
       "      <td>Edit: nth time to order. And this is the first...</td>\n",
       "    </tr>\n",
       "  </tbody>\n",
       "</table>\n",
       "<p>102 rows × 2 columns</p>\n",
       "</div>"
      ],
      "text/plain": [
       "     review rating                                        review text\n",
       "0                2  Originally our pediatrician recommended this l...\n",
       "1                5  This wash is basically the same as the Vanicre...\n",
       "2                1  I asked on the Vanicream Facebook site what is...\n",
       "3                1  When Aveeno and then Alaffia changed their bod...\n",
       "4                5  I’m a big believer in the Vanicream brand for ...\n",
       "..             ...                                                ...\n",
       "97               5  Worked great for my one year old with excema. ...\n",
       "98               5                Thank you for such awesome product!\n",
       "99               5  The baby formula must be an Amazon marketing s...\n",
       "100              5  I trust Vanicream with my own sensitive skin, ...\n",
       "101              5  Edit: nth time to order. And this is the first...\n",
       "\n",
       "[102 rows x 2 columns]"
      ]
     },
     "execution_count": 168,
     "metadata": {},
     "output_type": "execute_result"
    }
   ],
   "source": [
    "df_Vanicream"
   ]
  },
  {
   "cell_type": "code",
   "execution_count": 169,
   "metadata": {},
   "outputs": [],
   "source": [
    "# In order to do classification, it should be add a columns to denote which review is corresponding to which brand.\n",
    "\n",
    "df_Aquaphor['Brand'] = 'Aquaphor'\n",
    "df_Aveeno['Brand'] = 'Aveeno'\n",
    "df_CeraVe['Brand'] = 'CeraVe'\n",
    "df_Cetaphil['Brand'] = 'Cetaphil'\n",
    "df_Era['Brand']= 'Era'\n",
    "df_Eucerin['Brand']= 'Eucerin'\n",
    "df_Mustela['Brand'] = 'Mustela'\n",
    "df_Vanicream['Brand'] = 'Vanicream'"
   ]
  },
  {
   "cell_type": "code",
   "execution_count": 170,
   "metadata": {},
   "outputs": [
    {
     "data": {
      "text/html": [
       "<div>\n",
       "<style scoped>\n",
       "    .dataframe tbody tr th:only-of-type {\n",
       "        vertical-align: middle;\n",
       "    }\n",
       "\n",
       "    .dataframe tbody tr th {\n",
       "        vertical-align: top;\n",
       "    }\n",
       "\n",
       "    .dataframe thead th {\n",
       "        text-align: right;\n",
       "    }\n",
       "</style>\n",
       "<table border=\"1\" class=\"dataframe\">\n",
       "  <thead>\n",
       "    <tr style=\"text-align: right;\">\n",
       "      <th></th>\n",
       "      <th>review rating</th>\n",
       "      <th>review text</th>\n",
       "      <th>Brand</th>\n",
       "    </tr>\n",
       "  </thead>\n",
       "  <tbody>\n",
       "    <tr>\n",
       "      <th>0</th>\n",
       "      <td>1</td>\n",
       "      <td>This might be a fake aquaphor so people beware...</td>\n",
       "      <td>Aquaphor</td>\n",
       "    </tr>\n",
       "    <tr>\n",
       "      <th>1</th>\n",
       "      <td>4</td>\n",
       "      <td>Edit: we have continued to use Aquaphor from A...</td>\n",
       "      <td>Aquaphor</td>\n",
       "    </tr>\n",
       "    <tr>\n",
       "      <th>2</th>\n",
       "      <td>1</td>\n",
       "      <td>I received a very strange container. It had no...</td>\n",
       "      <td>Aquaphor</td>\n",
       "    </tr>\n",
       "    <tr>\n",
       "      <th>3</th>\n",
       "      <td>3</td>\n",
       "      <td>Like others said, this aquaphor bought on amaz...</td>\n",
       "      <td>Aquaphor</td>\n",
       "    </tr>\n",
       "    <tr>\n",
       "      <th>4</th>\n",
       "      <td>4</td>\n",
       "      <td>So close to 5 stars. This product is AMAZING! ...</td>\n",
       "      <td>Aquaphor</td>\n",
       "    </tr>\n",
       "    <tr>\n",
       "      <th>...</th>\n",
       "      <td>...</td>\n",
       "      <td>...</td>\n",
       "      <td>...</td>\n",
       "    </tr>\n",
       "    <tr>\n",
       "      <th>4329</th>\n",
       "      <td>1</td>\n",
       "      <td>Full of chemicals! Do not use! Wish I could gi...</td>\n",
       "      <td>Aquaphor</td>\n",
       "    </tr>\n",
       "    <tr>\n",
       "      <th>4330</th>\n",
       "      <td>3</td>\n",
       "      <td>too oily</td>\n",
       "      <td>Aquaphor</td>\n",
       "    </tr>\n",
       "    <tr>\n",
       "      <th>4331</th>\n",
       "      <td>1</td>\n",
       "      <td>Very BAD ingredients... especially MINERAL OIL...</td>\n",
       "      <td>Aquaphor</td>\n",
       "    </tr>\n",
       "    <tr>\n",
       "      <th>4332</th>\n",
       "      <td>5</td>\n",
       "      <td>Works great for my baby. No fragrance and keep...</td>\n",
       "      <td>Aquaphor</td>\n",
       "    </tr>\n",
       "    <tr>\n",
       "      <th>4333</th>\n",
       "      <td>5</td>\n",
       "      <td>Muy grande ya tiene un año y todavia le queda ...</td>\n",
       "      <td>Aquaphor</td>\n",
       "    </tr>\n",
       "  </tbody>\n",
       "</table>\n",
       "<p>4334 rows × 3 columns</p>\n",
       "</div>"
      ],
      "text/plain": [
       "      review rating                                        review text  \\\n",
       "0                 1  This might be a fake aquaphor so people beware...   \n",
       "1                 4  Edit: we have continued to use Aquaphor from A...   \n",
       "2                 1  I received a very strange container. It had no...   \n",
       "3                 3  Like others said, this aquaphor bought on amaz...   \n",
       "4                 4  So close to 5 stars. This product is AMAZING! ...   \n",
       "...             ...                                                ...   \n",
       "4329              1  Full of chemicals! Do not use! Wish I could gi...   \n",
       "4330              3                                           too oily   \n",
       "4331              1  Very BAD ingredients... especially MINERAL OIL...   \n",
       "4332              5  Works great for my baby. No fragrance and keep...   \n",
       "4333              5  Muy grande ya tiene un año y todavia le queda ...   \n",
       "\n",
       "         Brand  \n",
       "0     Aquaphor  \n",
       "1     Aquaphor  \n",
       "2     Aquaphor  \n",
       "3     Aquaphor  \n",
       "4     Aquaphor  \n",
       "...        ...  \n",
       "4329  Aquaphor  \n",
       "4330  Aquaphor  \n",
       "4331  Aquaphor  \n",
       "4332  Aquaphor  \n",
       "4333  Aquaphor  \n",
       "\n",
       "[4334 rows x 3 columns]"
      ]
     },
     "execution_count": 170,
     "metadata": {},
     "output_type": "execute_result"
    }
   ],
   "source": [
    "df_Aquaphor"
   ]
  },
  {
   "cell_type": "markdown",
   "metadata": {},
   "source": [
    "# Data Cleaning \n",
    "\n",
    "Goal: Get the data in a clean, standard format for further analysis"
   ]
  },
  {
   "cell_type": "markdown",
   "metadata": {},
   "source": [
    "## Apply the first round of text cleaning techniques\n",
    "- make text lowercase \n",
    "- remove text in squre bracket,\n",
    "- remove punctuation\n",
    "- remove words containing numbers"
   ]
  },
  {
   "cell_type": "code",
   "execution_count": 171,
   "metadata": {},
   "outputs": [],
   "source": [
    "# Apply a first round of text cleaning techniques\n",
    "import re\n",
    "import string\n",
    "\n",
    "def clean_text_round1(text):\n",
    "    '''Make text lowercase, remove text in square brackets, remove punctuation and remove words containing numbers.'''\n",
    "    text = text.lower()\n",
    "    text = re.sub('\\[.*?\\]', '', text)\n",
    "    text = re.sub('[%s]' % re.escape(string.punctuation), '', text)\n",
    "    text = re.sub('\\w*\\d\\w*', '', text)\n",
    "    return text\n",
    "\n",
    "round1 = lambda x: clean_text_round1(x)"
   ]
  },
  {
   "cell_type": "code",
   "execution_count": 172,
   "metadata": {},
   "outputs": [],
   "source": [
    "# Because some of the review are number in  df_Aquaphor['review text'], so convert them into string type firstly. \n",
    "\n",
    "df_Aquaphor['review text'] = [str(reveiw) for reveiw in df_Aquaphor['review text'] ]\n",
    "df_Aquaphor['review text'] = [reveiw.lower() for reveiw in df_Aquaphor['review text']]"
   ]
  },
  {
   "cell_type": "code",
   "execution_count": 173,
   "metadata": {},
   "outputs": [],
   "source": [
    "# Applying the function for all datasets \n",
    "\n",
    "df_Aquaphor['review text'] = df_Aquaphor['review text'].apply(round1)\n",
    "df_Aveeno['review text'] = df_Aveeno['review text'].apply(round1)\n",
    "df_CeraVe['review text'] = df_CeraVe['review text'].apply(round1)\n",
    "df_Cetaphil['review text'] = df_Cetaphil['review text'].apply(round1)\n",
    "df_Era['review text']= df_Era['review text'].apply(round1)\n",
    "df_Eucerin['review text']= df_Eucerin['review text'].apply(round1)\n",
    "df_Mustela['review text'] = df_Mustela['review text'].apply(round1)\n",
    "df_Vanicream['review text'] = df_Vanicream['review text'].apply(round1)"
   ]
  },
  {
   "cell_type": "code",
   "execution_count": 174,
   "metadata": {},
   "outputs": [
    {
     "data": {
      "text/plain": [
       "0       this might be a fake aquaphor so people beware...\n",
       "1       edit we have continued to use aquaphor from am...\n",
       "2       i received a very strange container it had no ...\n",
       "3       like others said this aquaphor bought on amazo...\n",
       "4       so close to  stars this product is amazing the...\n",
       "                              ...                        \n",
       "4329    full of chemicals do not use wish i could give...\n",
       "4330                                             too oily\n",
       "4331    very bad ingredients especially mineral oil mi...\n",
       "4332    works great for my baby no fragrance and keep ...\n",
       "4333    muy grande ya tiene un año y todavia le queda ...\n",
       "Name: review text, Length: 4334, dtype: object"
      ]
     },
     "execution_count": 174,
     "metadata": {},
     "output_type": "execute_result"
    }
   ],
   "source": [
    "# Let's take a look at the updated text\n",
    "\n",
    "df_Aquaphor['review text']"
   ]
  },
  {
   "cell_type": "markdown",
   "metadata": {},
   "source": [
    "## Apply a second round of text cleaning techniques\n",
    "\n",
    "- get rid of some additional punctuation\n",
    "- remove non-sensical text that was missed the first time around"
   ]
  },
  {
   "cell_type": "code",
   "execution_count": 175,
   "metadata": {},
   "outputs": [],
   "source": [
    "def clean_text_round2(text):\n",
    "    '''Get rid of some additional punctuation and non-sensical text that was missed the first time around.'''\n",
    "    text = re.sub('[‘’“”…]', '', text)\n",
    "    text = re.sub('\\n', '', text)\n",
    "    return text\n",
    "\n",
    "round2 = lambda x: clean_text_round2(x)"
   ]
  },
  {
   "cell_type": "code",
   "execution_count": 176,
   "metadata": {},
   "outputs": [],
   "source": [
    "# Applying the function for all datasets \n",
    "\n",
    "df_Aquaphor['review text'] = df_Aquaphor['review text'].apply(round2)\n",
    "df_Aveeno['review text'] = df_Aveeno['review text'].apply(round2)\n",
    "df_CeraVe['review text'] = df_CeraVe['review text'].apply(round2)\n",
    "df_Cetaphil['review text'] = df_Cetaphil['review text'].apply(round2)\n",
    "df_Era['review text']= df_Era['review text'].apply(round2)\n",
    "df_Eucerin['review text']= df_Eucerin['review text'].apply(round2)\n",
    "df_Mustela['review text'] = df_Mustela['review text'].apply(round2)\n",
    "df_Vanicream['review text'] = df_Vanicream['review text'].apply(round2)"
   ]
  },
  {
   "cell_type": "code",
   "execution_count": 177,
   "metadata": {},
   "outputs": [
    {
     "data": {
      "text/html": [
       "<div>\n",
       "<style scoped>\n",
       "    .dataframe tbody tr th:only-of-type {\n",
       "        vertical-align: middle;\n",
       "    }\n",
       "\n",
       "    .dataframe tbody tr th {\n",
       "        vertical-align: top;\n",
       "    }\n",
       "\n",
       "    .dataframe thead th {\n",
       "        text-align: right;\n",
       "    }\n",
       "</style>\n",
       "<table border=\"1\" class=\"dataframe\">\n",
       "  <thead>\n",
       "    <tr style=\"text-align: right;\">\n",
       "      <th></th>\n",
       "      <th>review rating</th>\n",
       "      <th>review text</th>\n",
       "      <th>Brand</th>\n",
       "    </tr>\n",
       "  </thead>\n",
       "  <tbody>\n",
       "    <tr>\n",
       "      <th>0</th>\n",
       "      <td>1</td>\n",
       "      <td>this might be a fake aquaphor so people beware...</td>\n",
       "      <td>Aquaphor</td>\n",
       "    </tr>\n",
       "    <tr>\n",
       "      <th>1</th>\n",
       "      <td>4</td>\n",
       "      <td>edit we have continued to use aquaphor from am...</td>\n",
       "      <td>Aquaphor</td>\n",
       "    </tr>\n",
       "    <tr>\n",
       "      <th>2</th>\n",
       "      <td>1</td>\n",
       "      <td>i received a very strange container it had no ...</td>\n",
       "      <td>Aquaphor</td>\n",
       "    </tr>\n",
       "    <tr>\n",
       "      <th>3</th>\n",
       "      <td>3</td>\n",
       "      <td>like others said this aquaphor bought on amazo...</td>\n",
       "      <td>Aquaphor</td>\n",
       "    </tr>\n",
       "    <tr>\n",
       "      <th>4</th>\n",
       "      <td>4</td>\n",
       "      <td>so close to  stars this product is amazing the...</td>\n",
       "      <td>Aquaphor</td>\n",
       "    </tr>\n",
       "    <tr>\n",
       "      <th>...</th>\n",
       "      <td>...</td>\n",
       "      <td>...</td>\n",
       "      <td>...</td>\n",
       "    </tr>\n",
       "    <tr>\n",
       "      <th>4329</th>\n",
       "      <td>1</td>\n",
       "      <td>full of chemicals do not use wish i could give...</td>\n",
       "      <td>Aquaphor</td>\n",
       "    </tr>\n",
       "    <tr>\n",
       "      <th>4330</th>\n",
       "      <td>3</td>\n",
       "      <td>too oily</td>\n",
       "      <td>Aquaphor</td>\n",
       "    </tr>\n",
       "    <tr>\n",
       "      <th>4331</th>\n",
       "      <td>1</td>\n",
       "      <td>very bad ingredients especially mineral oil mi...</td>\n",
       "      <td>Aquaphor</td>\n",
       "    </tr>\n",
       "    <tr>\n",
       "      <th>4332</th>\n",
       "      <td>5</td>\n",
       "      <td>works great for my baby no fragrance and keep ...</td>\n",
       "      <td>Aquaphor</td>\n",
       "    </tr>\n",
       "    <tr>\n",
       "      <th>4333</th>\n",
       "      <td>5</td>\n",
       "      <td>muy grande ya tiene un año y todavia le queda ...</td>\n",
       "      <td>Aquaphor</td>\n",
       "    </tr>\n",
       "  </tbody>\n",
       "</table>\n",
       "<p>4334 rows × 3 columns</p>\n",
       "</div>"
      ],
      "text/plain": [
       "      review rating                                        review text  \\\n",
       "0                 1  this might be a fake aquaphor so people beware...   \n",
       "1                 4  edit we have continued to use aquaphor from am...   \n",
       "2                 1  i received a very strange container it had no ...   \n",
       "3                 3  like others said this aquaphor bought on amazo...   \n",
       "4                 4  so close to  stars this product is amazing the...   \n",
       "...             ...                                                ...   \n",
       "4329              1  full of chemicals do not use wish i could give...   \n",
       "4330              3                                           too oily   \n",
       "4331              1  very bad ingredients especially mineral oil mi...   \n",
       "4332              5  works great for my baby no fragrance and keep ...   \n",
       "4333              5  muy grande ya tiene un año y todavia le queda ...   \n",
       "\n",
       "         Brand  \n",
       "0     Aquaphor  \n",
       "1     Aquaphor  \n",
       "2     Aquaphor  \n",
       "3     Aquaphor  \n",
       "4     Aquaphor  \n",
       "...        ...  \n",
       "4329  Aquaphor  \n",
       "4330  Aquaphor  \n",
       "4331  Aquaphor  \n",
       "4332  Aquaphor  \n",
       "4333  Aquaphor  \n",
       "\n",
       "[4334 rows x 3 columns]"
      ]
     },
     "execution_count": 177,
     "metadata": {},
     "output_type": "execute_result"
    }
   ],
   "source": [
    "# Let's take a look at the updated text\n",
    "\n",
    "df_Aquaphor"
   ]
  },
  {
   "cell_type": "markdown",
   "metadata": {},
   "source": [
    "### Check if there is missing value in the dataset "
   ]
  },
  {
   "cell_type": "code",
   "execution_count": 178,
   "metadata": {
    "scrolled": true
   },
   "outputs": [
    {
     "name": "stdout",
     "output_type": "stream",
     "text": [
      "0th dataset:             0\n",
      "review name  0\n",
      "review text  0\n",
      "1th dataset:             0\n",
      "review name  0\n",
      "review text  0\n",
      "2th dataset:             0\n",
      "review name  0\n",
      "review text  0\n",
      "3th dataset:             0\n",
      "review name  0\n",
      "review text  0\n",
      "4th dataset:             0\n",
      "review name  0\n",
      "review text  0\n",
      "5th dataset:             0\n",
      "review name  0\n",
      "review text  0\n",
      "6th dataset:             0\n",
      "review name  0\n",
      "review text  0\n",
      "7th dataset:             0\n",
      "review name  0\n",
      "review text  0\n"
     ]
    }
   ],
   "source": [
    "# It shows that there is no missing value appearing in any dataset from below result. \n",
    "i = 0\n",
    "for datset in [df_Aquaphor,df_Aveeno,df_CeraVe,df_Cetaphil,df_Era,df_Eucerin,df_Mustela,df_Vanicream]:\n",
    "    df_isna= pd.DataFrame(dataset.isna().sum())\n",
    "    print('{}th dataset:{}'.format(i,df_isna))\n",
    "    i += 1\n",
    "          "
   ]
  },
  {
   "cell_type": "markdown",
   "metadata": {},
   "source": [
    "## Apply for a third round: remove stop words and conduct lemmatization "
   ]
  },
  {
   "cell_type": "code",
   "execution_count": 179,
   "metadata": {},
   "outputs": [],
   "source": [
    "# Define a function to deal with stop words \n",
    "from nltk.stem import WordNetLemmatizer \n",
    "\n",
    "lemmatizer = WordNetLemmatizer()\n",
    "stop_words = set(stopwords.words('english'))\n",
    "\n",
    "def round3(x):\n",
    "    x = x.split()\n",
    "    new_word = []\n",
    "    for word in x:\n",
    "        if word not in stop_words:\n",
    "            new_word.append(lemmatizer.lemmatize(word))\n",
    "            \n",
    "    text_string = ' '.join(new_word)\n",
    "    return text_string\n"
   ]
  },
  {
   "cell_type": "code",
   "execution_count": 180,
   "metadata": {},
   "outputs": [],
   "source": [
    "df_Aquaphor['review text'] = df_Aquaphor['review text'].apply(round3)\n",
    "df_Aveeno['review text'] = df_Aveeno['review text'].apply(round3)\n",
    "df_CeraVe['review text'] = df_CeraVe['review text'].apply(round3)\n",
    "df_Cetaphil['review text'] = df_Cetaphil['review text'].apply(round3)\n",
    "df_Era['review text']= df_Era['review text'].apply(round3)\n",
    "df_Eucerin['review text']= df_Eucerin['review text'].apply(round3)\n",
    "df_Mustela['review text'] = df_Mustela['review text'].apply(round3)\n",
    "df_Vanicream['review text'] = df_Vanicream['review text'].apply(round3)"
   ]
  },
  {
   "cell_type": "code",
   "execution_count": 181,
   "metadata": {},
   "outputs": [
    {
     "data": {
      "text/plain": [
       "0       might fake aquaphor people beware always purch...\n",
       "1       edit continued use aquaphor amazon aside one w...\n",
       "2       received strange container labeling white blue...\n",
       "3       like others said aquaphor bought amazon differ...\n",
       "4       close star product amazing reason giving star ...\n",
       "                              ...                        \n",
       "4329        full chemical use wish could give zero rating\n",
       "4330                                                 oily\n",
       "4331    bad ingredient especially mineral oil mineral ...\n",
       "4332    work great baby fragrance keep skin moist woul...\n",
       "4333    muy grande ya tiene un año todavia le queda po...\n",
       "Name: review text, Length: 4334, dtype: object"
      ]
     },
     "execution_count": 181,
     "metadata": {},
     "output_type": "execute_result"
    }
   ],
   "source": [
    "# Let's take a look at the updated text\n",
    "\n",
    "df_Aquaphor['review text'] "
   ]
  },
  {
   "cell_type": "markdown",
   "metadata": {},
   "source": [
    "# Save the cleaning dataset to CSV format for further exploration "
   ]
  },
  {
   "cell_type": "code",
   "execution_count": 127,
   "metadata": {},
   "outputs": [],
   "source": [
    "df_Aquaphor.to_csv(r'D:\\Springboard\\Github\\Data_NLP_Baby_Lotion\\Processed Dataset\\df_Aquaphor.csv', index = False)\n",
    "df_Aveeno.to_csv(r'D:\\Springboard\\Github\\Data_NLP_Baby_Lotion\\Processed Dataset\\df_Aveeno.csv', index = False)\n",
    "df_CeraVe.to_csv(r'D:\\Springboard\\Github\\Data_NLP_Baby_Lotion\\Processed Dataset\\df_CeraVe.csv', index = False)\n",
    "df_Cetaphil.to_csv(r'D:\\Springboard\\Github\\Data_NLP_Baby_Lotion\\Processed Dataset\\df_Cetaphil.csv', index = False)\n",
    "df_Era.to_csv(r'D:\\Springboard\\Github\\Data_NLP_Baby_Lotion\\Processed Dataset\\df_Era.csv', index = False)\n",
    "df_Eucerin.to_csv(r'D:\\Springboard\\Github\\Data_NLP_Baby_Lotion\\Processed Dataset\\df_Eucerin.csv', index = False)\n",
    "df_Mustela.to_csv(r'D:\\Springboard\\Github\\Data_NLP_Baby_Lotion\\Processed Dataset\\df_Mustela.csv', index = False)\n",
    "df_Vanicream.to_csv(r'D:\\Springboard\\Github\\Data_NLP_Baby_Lotion\\Processed Dataset\\df_Vanicream.csv', index = False)"
   ]
  }
 ],
 "metadata": {
  "kernelspec": {
   "display_name": "Python 3",
   "language": "python",
   "name": "python3"
  },
  "language_info": {
   "codemirror_mode": {
    "name": "ipython",
    "version": 3
   },
   "file_extension": ".py",
   "mimetype": "text/x-python",
   "name": "python",
   "nbconvert_exporter": "python",
   "pygments_lexer": "ipython3",
   "version": "3.7.3"
  },
  "toc": {
   "base_numbering": 1,
   "nav_menu": {},
   "number_sections": true,
   "sideBar": true,
   "skip_h1_title": false,
   "title_cell": "Table of Contents",
   "title_sidebar": "Contents",
   "toc_cell": false,
   "toc_position": {},
   "toc_section_display": true,
   "toc_window_display": true
  }
 },
 "nbformat": 4,
 "nbformat_minor": 4
}
